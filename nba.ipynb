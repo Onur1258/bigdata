{
 "cells": [
  {
   "cell_type": "code",
   "execution_count": 1,
   "metadata": {},
   "outputs": [
    {
     "name": "stderr",
     "output_type": "stream",
     "text": [
      "23/11/23 23:51:37 WARN Utils: Your hostname, Onur-MacBook-Air.local resolves to a loopback address: 127.0.0.1; using 10.3.1.209 instead (on interface en0)\n",
      "23/11/23 23:51:37 WARN Utils: Set SPARK_LOCAL_IP if you need to bind to another address\n",
      "Setting default log level to \"WARN\".\n",
      "To adjust logging level use sc.setLogLevel(newLevel). For SparkR, use setLogLevel(newLevel).\n",
      "23/11/23 23:51:38 WARN NativeCodeLoader: Unable to load native-hadoop library for your platform... using builtin-java classes where applicable\n"
     ]
    }
   ],
   "source": [
    "import pyspark\n",
    "from pyspark import SparkContext\n",
    "from pyspark.sql import SparkSession\n",
    "from pyspark.sql.functions import col\n",
    "\n",
    "spark = SparkSession.builder.master(\"local[1]\").appName(\"NBAAAAA\").getOrCreate()"
   ]
  },
  {
   "cell_type": "code",
   "execution_count": 2,
   "metadata": {},
   "outputs": [],
   "source": [
    "df1 = spark.read.option('header', 'true').csv(\"archive/Players.csv\")\n",
    "df2 = spark.read.option('header', 'true').csv(\"archive/Seasons_Stats.csv\")\n",
    "df3 = spark.read.option('header', 'true').csv(\"archive/player_data.csv\")"
   ]
  },
  {
   "cell_type": "code",
   "execution_count": 3,
   "metadata": {},
   "outputs": [
    {
     "name": "stdout",
     "output_type": "stream",
     "text": [
      "root\n",
      " |-- _c0: string (nullable = true)\n",
      " |-- Player: string (nullable = true)\n",
      " |-- height: string (nullable = true)\n",
      " |-- weight: string (nullable = true)\n",
      " |-- collage: string (nullable = true)\n",
      " |-- born: string (nullable = true)\n",
      " |-- birth_city: string (nullable = true)\n",
      " |-- birth_state: string (nullable = true)\n",
      "\n",
      "root\n",
      " |-- _c0: string (nullable = true)\n",
      " |-- Year: string (nullable = true)\n",
      " |-- Player: string (nullable = true)\n",
      " |-- Pos: string (nullable = true)\n",
      " |-- Age: string (nullable = true)\n",
      " |-- Tm: string (nullable = true)\n",
      " |-- G: string (nullable = true)\n",
      " |-- GS: string (nullable = true)\n",
      " |-- MP: string (nullable = true)\n",
      " |-- PER: string (nullable = true)\n",
      " |-- TS%: string (nullable = true)\n",
      " |-- 3PAr: string (nullable = true)\n",
      " |-- FTr: string (nullable = true)\n",
      " |-- ORB%: string (nullable = true)\n",
      " |-- DRB%: string (nullable = true)\n",
      " |-- TRB%: string (nullable = true)\n",
      " |-- AST%: string (nullable = true)\n",
      " |-- STL%: string (nullable = true)\n",
      " |-- BLK%: string (nullable = true)\n",
      " |-- TOV%: string (nullable = true)\n",
      " |-- USG%: string (nullable = true)\n",
      " |-- blanl: string (nullable = true)\n",
      " |-- OWS: string (nullable = true)\n",
      " |-- DWS: string (nullable = true)\n",
      " |-- WS: string (nullable = true)\n",
      " |-- WS/48: string (nullable = true)\n",
      " |-- blank2: string (nullable = true)\n",
      " |-- OBPM: string (nullable = true)\n",
      " |-- DBPM: string (nullable = true)\n",
      " |-- BPM: string (nullable = true)\n",
      " |-- VORP: string (nullable = true)\n",
      " |-- FG: string (nullable = true)\n",
      " |-- FGA: string (nullable = true)\n",
      " |-- FG%: string (nullable = true)\n",
      " |-- 3P: string (nullable = true)\n",
      " |-- 3PA: string (nullable = true)\n",
      " |-- 3P%: string (nullable = true)\n",
      " |-- 2P: string (nullable = true)\n",
      " |-- 2PA: string (nullable = true)\n",
      " |-- 2P%: string (nullable = true)\n",
      " |-- eFG%: string (nullable = true)\n",
      " |-- FT: string (nullable = true)\n",
      " |-- FTA: string (nullable = true)\n",
      " |-- FT%: string (nullable = true)\n",
      " |-- ORB: string (nullable = true)\n",
      " |-- DRB: string (nullable = true)\n",
      " |-- TRB: string (nullable = true)\n",
      " |-- AST: string (nullable = true)\n",
      " |-- STL: string (nullable = true)\n",
      " |-- BLK: string (nullable = true)\n",
      " |-- TOV: string (nullable = true)\n",
      " |-- PF: string (nullable = true)\n",
      " |-- PTS: string (nullable = true)\n",
      "\n",
      "root\n",
      " |-- name: string (nullable = true)\n",
      " |-- year_start: string (nullable = true)\n",
      " |-- year_end: string (nullable = true)\n",
      " |-- position: string (nullable = true)\n",
      " |-- height: string (nullable = true)\n",
      " |-- weight: string (nullable = true)\n",
      " |-- birth_date: string (nullable = true)\n",
      " |-- college: string (nullable = true)\n",
      "\n"
     ]
    }
   ],
   "source": [
    "df1.printSchema()\n",
    "df2.printSchema()\n",
    "df3.printSchema()"
   ]
  }
 ],
 "metadata": {
  "kernelspec": {
   "display_name": "bigdata",
   "language": "python",
   "name": "python3"
  },
  "language_info": {
   "codemirror_mode": {
    "name": "ipython",
    "version": 3
   },
   "file_extension": ".py",
   "mimetype": "text/x-python",
   "name": "python",
   "nbconvert_exporter": "python",
   "pygments_lexer": "ipython3",
   "version": "3.11.5"
  }
 },
 "nbformat": 4,
 "nbformat_minor": 2
}
