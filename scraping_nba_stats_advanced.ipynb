{
 "cells": [
  {
   "cell_type": "markdown",
   "metadata": {},
   "source": [
    "Probably isn't the cleanest code or makes use of the best coding methods.\n",
    "\n",
    "source: https://www.basketball-reference.com"
   ]
  },
  {
   "cell_type": "markdown",
   "metadata": {},
   "source": [
    "# Read in and Create advanced data frame"
   ]
  },
  {
   "cell_type": "code",
   "execution_count": null,
   "metadata": {},
   "outputs": [],
   "source": [
    "import pandas as pd\n",
    "import requests\n",
    "from bs4 import BeautifulSoup"
   ]
  },
  {
   "cell_type": "code",
   "execution_count": null,
   "metadata": {},
   "outputs": [],
   "source": [
    "# for loop getting required webpages\n",
    "years = range(1950,2023)\n",
    "\n",
    "frames = {}\n",
    "df = []\n",
    "df_advanced = []"
   ]
  },
  {
   "cell_type": "code",
   "execution_count": null,
   "metadata": {},
   "outputs": [],
   "source": [
    "for y in years:        # NBA season to scrape\n",
    "  year = y\n",
    "  # URL to scrape, notice f string:\n",
    "  frames[\"url\" + str(y)] = f\"https://www.basketball-reference.com/leagues/NBA_{year}_advanced.html\"\n",
    "  response = requests.get(frames[\"url\" + str(y)])\n",
    "  print(year,\":\",response.status_code)\n",
    "  if response.status_code == 200:\n",
    "    soup = BeautifulSoup(response.content, 'html.parser')\n",
    "    table = soup.find('table', {'id': 'advanced_stats'})  # Finding the right table\n",
    "    if table:\n",
    "      year_data = pd.read_html(str(table))[0]\n",
    "      year_data = year_data[year_data[\"Rk\"] != \"Rk\"]  # Drop unnecessary columns\n",
    "      year_data[\"Year\"] = year\n",
    "      df_advanced.append(year_data)"
   ]
  },
  {
   "cell_type": "code",
   "execution_count": null,
   "metadata": {},
   "outputs": [],
   "source": [
    "# Concatenate all dataframes\n",
    "final_df_advanced = pd.concat(df_advanced, ignore_index=True)\n",
    "\n",
    "# Save to CSV\n",
    "final_df_advanced.to_csv('archive/nba_stats_1950_2022_advanced.csv', index=False)"
   ]
  }
 ],
 "metadata": {
  "kernelspec": {
   "display_name": "bigdata",
   "language": "python",
   "name": "python3"
  },
  "language_info": {
   "codemirror_mode": {
    "name": "ipython",
    "version": 3
   },
   "file_extension": ".py",
   "mimetype": "text/x-python",
   "name": "python",
   "nbconvert_exporter": "python",
   "pygments_lexer": "ipython3",
   "version": "3.11.5"
  }
 },
 "nbformat": 4,
 "nbformat_minor": 2
}
