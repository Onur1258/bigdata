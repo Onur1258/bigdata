{
  "nbformat": 4,
  "nbformat_minor": 0,
  "metadata": {
    "colab": {
      "provenance": []
    },
    "kernelspec": {
      "name": "python3",
      "display_name": "Python 3"
    },
    "language_info": {
      "name": "python"
    }
  },
  "cells": [
    {
      "cell_type": "markdown",
      "source": [
        "Probably isn't the cleanest code or makes use of the best coding methods. But I needed raw datasets for a final project and was short on time.\n",
        "\n",
        "source: https://www.basketball-reference.com"
      ],
      "metadata": {
        "id": "kQiXT3TmLhlk"
      }
    },
    {
      "cell_type": "markdown",
      "source": [
        "# Read in and Create data frame"
      ],
      "metadata": {
        "id": "_hXAjdATb6Qz"
      }
    },
    {
      "cell_type": "code",
      "source": [
        "import pandas as pd"
      ],
      "metadata": {
        "id": "BbbId4W73jog"
      },
      "execution_count": null,
      "outputs": []
    },
    {
      "cell_type": "code",
      "source": [
        "# for loop getting required webpages\n",
        "years = range(1998,2023)\n",
        "\n",
        "frames = {}\n",
        "for y in years:        # NBA season to scrape\n",
        "  year = y\n",
        "  # URL to scrape, notice f string:\n",
        "  frames[\"url\" + str(y)] = f\"https://www.basketball-reference.com/leagues/NBA_{year}_per_game.html\"\n",
        "\n",
        "'''\n",
        "years = range(1998, 2023)\n",
        "\n",
        "urls = {f\"url{y}\": f\"https://www.basketball-reference.com/leagues/NBA_{y}_per_game.html\" for y in years}\n",
        "urls\n",
        "'''"
      ],
      "metadata": {
        "id": "FclwZnZs3n71"
      },
      "execution_count": null,
      "outputs": []
    },
    {
      "cell_type": "code",
      "source": [
        "# contains each link used\n",
        "frames"
      ],
      "metadata": {
        "id": "75iircIXGRQu"
      },
      "execution_count": null,
      "outputs": []
    },
    {
      "cell_type": "code",
      "source": [
        "# Messy code :(\n",
        "# reading in the html pages, adding season column, mvp column.\n",
        "# pl_frames[\"pl\" + str(season_to)] is just to have each webpage read in linked to it's own unique vairable in the pl_frames dict\n",
        "\n",
        "season_from = 1997 # for season column\n",
        "season_to = 98 # for season column\n",
        "x = 0\n",
        "y = 0\n",
        "\n",
        "pl_frames = {}\n",
        "\n",
        "for i in frames:\n",
        "  if season_to == 98 or season_to == 99: # for years 1997-98 and 1998-99\n",
        "    pl_frames[\"pl\" + str(season_from + 1)] = pd.read_html(frames[i])[0]\n",
        "    pl_frames[\"pl\" + str(season_from + 1)]['Season'] = str(season_from)+'-'+str(season_to)\n",
        "    pl_frames[\"pl\" + str(season_from + 1)]['MVP'] = False\n",
        "\n",
        "\n",
        "  elif season_to not in range(10,23): # for years 1999-00 through 2008-09\n",
        "    season_to = 0 + x\n",
        "    pl_frames[\"pl\" + str(season_from + 1)] = pd.read_html(frames[i])[0]\n",
        "    pl_frames[\"pl\" + str(season_from + 1)]['Season'] = str(season_from)+'-0'+str(season_to)\n",
        "    pl_frames[\"pl\" + str(season_from + 1)]['MVP'] = False\n",
        "    x += 1\n",
        "\n",
        "  else: # for years 2009-10 through 2021-22\n",
        "    season_to = 10 + y\n",
        "    pl_frames[\"pl\" + str(season_from + 1)] = pd.read_html(frames[i])[0]\n",
        "    pl_frames[\"pl\" + str(season_from + 1)]['Season'] = str(season_from)+'-'+str(season_to)\n",
        "    pl_frames[\"pl\" + str(season_from + 1)]['MVP'] = False\n",
        "    y += 1\n",
        "  season_from += 1\n",
        "  season_to += 1\n"
      ],
      "metadata": {
        "id": "49ae4_Km768A"
      },
      "execution_count": null,
      "outputs": []
    },
    {
      "cell_type": "code",
      "source": [
        "pl_frames"
      ],
      "metadata": {
        "id": "SUEfvDjfHlAh"
      },
      "execution_count": null,
      "outputs": []
    },
    {
      "cell_type": "code",
      "source": [
        "\n",
        "# creating the data frame with all tables gathered from webpages\n",
        "NBA_Player_DF = pd.concat(pl_frames)\n",
        "NBA_Player_DF = NBA_Player_DF.drop_duplicates()\n",
        "NBA_Player_DF.drop(NBA_Player_DF[NBA_Player_DF['Rk'] == 'Rk'].index, inplace = True) # don't remember why i added this\n",
        "NBA_Player_DF.reset_index(drop=True, inplace=True)\n",
        "\n",
        "'''\n",
        "# Concatenate all data frames and drop duplicates\n",
        "nba_player_df = pd.concat(pl_frames).drop_duplicates()\n",
        "\n",
        "# Drop any rows that have \"Rk\" as their index value (if present)\n",
        "nba_player_df.drop(nba_player_df[nba_player_df['Rk'] == 'Rk'].index, inplace=True)\n",
        "\n",
        "# Reset the index and drop the old index column\n",
        "nba_player_df.reset_index(drop=True, inplace=True)\n",
        "\n",
        "# Print the shape of the resulting data frame\n",
        "print(f\"Generated data frame with shape {nba_player_df.shape}\")\n",
        "NBA_Player_DF\n",
        "'''"
      ],
      "metadata": {
        "id": "L52RKx7N9arM"
      },
      "execution_count": null,
      "outputs": []
    },
    {
      "cell_type": "code",
      "source": [
        "NBA_Player_DF"
      ],
      "metadata": {
        "id": "DGYsyrCUGqjf"
      },
      "execution_count": null,
      "outputs": []
    },
    {
      "cell_type": "code",
      "source": [
        "# checking for known mvp\n",
        "NBA_Player_DF[(NBA_Player_DF['Season'] == '2006-07') & (NBA_Player_DF['Player'] == 'Dirk Nowitzki')]\n"
      ],
      "metadata": {
        "id": "EQpFKzDiGba1"
      },
      "execution_count": null,
      "outputs": []
    },
    {
      "cell_type": "code",
      "source": [
        "'''\n",
        "### If you want to read in webpages and create dataframe without adding new columns\n",
        "\n",
        "# for loop getting required webpages\n",
        "years = range(1998,2023)\n",
        "\n",
        "frames = {}\n",
        "for y in years:        # NBA season to scrape\n",
        "  year = y\n",
        "  # URL to scrape, notice f string:\n",
        "  frames[\"url\" + str(y)] = f\"https://www.basketball-reference.com/leagues/NBA_{year}_per_game.html\"\n",
        "\n",
        "# read in data\n",
        "num = 1\n",
        "pl_frames = {}\n",
        "\n",
        "for i in frames:\n",
        "  pl_frames[\"pl\" + str(num)] = pd.read_html(frames[i])[0]\n",
        "  num += 1\n",
        "\n",
        "# creating the data frame with all tables gathered from webpages\n",
        "NBA_Player_DF = pd.concat(pl_frames)\n",
        "NBA_Player_DF = NBA_Player_DF.drop_duplicates()\n",
        "NBA_Player_DF.drop(NBA_Player_DF[NBA_Player_DF['Rk'] == 'Rk'].index, inplace = True)\n",
        "NBA_Player_DF.reset_index(drop=True, inplace=True)\n",
        "\n",
        "# export data\n",
        "\n",
        "compression_opts = dict(method='zip',archive_name='NBA_Player_Stats.csv')\n",
        "NBA_Player_DF.to_csv('NBA_Player_Stats.zip', index=False,compression=compression_opts)\n",
        "'''"
      ],
      "metadata": {
        "id": "n37CP-E9HIeA"
      },
      "execution_count": null,
      "outputs": []
    },
    {
      "cell_type": "markdown",
      "source": [
        "# MVP data"
      ],
      "metadata": {
        "id": "olY45WLBcPaJ"
      }
    },
    {
      "cell_type": "code",
      "source": [
        "\n",
        "# read in MVP table for reference and find mvps in NBA_Player_DF\n",
        "mvp_table = pd.read_html('https://www.basketball-reference.com/awards/mvp.html')[0].droplevel(0, axis = 1)"
      ],
      "metadata": {
        "id": "nW9LCNDjOzbm"
      },
      "execution_count": null,
      "outputs": []
    },
    {
      "cell_type": "code",
      "source": [
        "\n",
        "# keeping 1997-98 through 2021-22 seasons\n",
        "season_to_remove = []\n",
        "start = 1955\n",
        "end = 56\n",
        "while end <= 97:\n",
        "  season_to_remove.append(str(start)+'-'+str(end))\n",
        "  start += 1\n",
        "  end += 1\n",
        "\n",
        "for i in season_to_remove:\n",
        "  mvp_table.drop(mvp_table[mvp_table['Season'] == i].index, inplace = True)\n",
        "mvp_table"
      ],
      "metadata": {
        "id": "zDiMZkACPvZL"
      },
      "execution_count": null,
      "outputs": []
    },
    {
      "cell_type": "code",
      "source": [
        "# list of players and seasons from mvp table\n",
        "mvp_season = mvp_table['Season'].to_list()\n",
        "mvp_player = mvp_table['Player'].to_list()\n",
        "mvp_player"
      ],
      "metadata": {
        "id": "82XClxoARHwg"
      },
      "execution_count": null,
      "outputs": []
    },
    {
      "cell_type": "code",
      "source": [
        "mvp_season"
      ],
      "metadata": {
        "id": "ldtl-JonAE5X"
      },
      "execution_count": null,
      "outputs": []
    },
    {
      "cell_type": "code",
      "source": [
        "\n",
        "# Gathers index for each MVP into list\n",
        "mvp_loc = []\n",
        "for i in range(len(mvp_player)):\n",
        "  mvp_loc.append(int(NBA_Player_DF[(NBA_Player_DF.Player.str.contains(pat = mvp_player[i])) & (NBA_Player_DF.Season.str.contains(pat = mvp_season[i]))].index[0]))"
      ],
      "metadata": {
        "id": "SKBglRS_EJLz"
      },
      "execution_count": null,
      "outputs": []
    },
    {
      "cell_type": "code",
      "source": [
        "mvp_loc"
      ],
      "metadata": {
        "id": "4TR8uEdyaQGn"
      },
      "execution_count": null,
      "outputs": []
    },
    {
      "cell_type": "code",
      "source": [
        "\n",
        "# sets the MVP column NBA_Player_DF to True if index is in mvp_loc list\n",
        "for i in mvp_loc:\n",
        "  NBA_Player_DF.at[i,'MVP'] = True"
      ],
      "metadata": {
        "id": "B5yfFI5i9dtd"
      },
      "execution_count": null,
      "outputs": []
    },
    {
      "cell_type": "code",
      "source": [
        "# MVP table from nba_player_df\n",
        "MVPs = NBA_Player_DF.loc[(NBA_Player_DF['MVP'] == True)]\n",
        "MVPs"
      ],
      "metadata": {
        "id": "IowdYRCi9lwf"
      },
      "execution_count": null,
      "outputs": []
    },
    {
      "cell_type": "code",
      "source": [
        "# checking for known mvp like earlier (should be True now)\n",
        "NBA_Player_DF[(NBA_Player_DF['Season'] == '2006-07') & (NBA_Player_DF['Player'] == 'Dirk Nowitzki')]"
      ],
      "metadata": {
        "id": "W5SPBiYgRm8H"
      },
      "execution_count": null,
      "outputs": []
    },
    {
      "cell_type": "code",
      "source": [
        "\n",
        "# final data frame\n",
        "NBA_Player_DF"
      ],
      "metadata": {
        "id": "LSd-O80991LU"
      },
      "execution_count": null,
      "outputs": []
    },
    {
      "cell_type": "code",
      "source": [
        "# export data\n",
        "\n",
        "compression_opts = dict(method='zip',archive_name='NBA_Player_Stats.csv')\n",
        "NBA_Player_DF.to_csv('NBA_Player_Stats.zip', index=False,compression=compression_opts)"
      ],
      "metadata": {
        "id": "56s18VDvAsyU"
      },
      "execution_count": null,
      "outputs": []
    },
    {
      "cell_type": "code",
      "source": [
        "NBA_Player_DF.dtypes"
      ],
      "metadata": {
        "id": "dqH8Uiv8JfcK"
      },
      "execution_count": null,
      "outputs": []
    },
    {
      "cell_type": "code",
      "source": [
        "# smaller table\n",
        "basic_nba_player_stats = NBA_Player_DF.filter(['Player','Pos','Age','Tm','PTS','AST','TRB','Season'], axis=1)\n",
        "basic_nba_player_stats"
      ],
      "metadata": {
        "id": "Vj0GbhdWI9YB"
      },
      "execution_count": null,
      "outputs": []
    }
  ]
}